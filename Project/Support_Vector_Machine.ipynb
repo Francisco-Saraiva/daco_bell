{
 "cells": [
  {
   "cell_type": "code",
   "execution_count": 1,
   "metadata": {},
   "outputs": [],
   "source": [
    "%%capture\n",
    "%run preprocessing.ipynb"
   ]
  },
  {
   "cell_type": "code",
   "execution_count": null,
   "metadata": {},
   "outputs": [],
   "source": [
    "import numpy as np\n",
    "import pandas as pd\n",
    "from sklearn import metrics\n",
    "from sklearn.svm import SVC\n",
    "\n",
    "def train_and_results(results, model, X_train, X_test, y_train, y_test, kernel, decision_function, g=None, c=None, d=None):\n",
    "    model.fit(X_train, y_train)\n",
    "    y_pred = model.predict(X_test)\n",
    "    accuracy = metrics.accuracy_score(y_test, y_pred)\n",
    "    precision = metrics.precision_score(y_test, y_pred, average='weighted')\n",
    "    recall = metrics.recall_score(y_test, y_pred, average='weighted')\n",
    "    f1 = metrics.f1_score(y_test, y_pred, average='weighted')\n",
    "    results.append({'kernel': kernel,'decision function': decision_function, 'gamma': g, 'coef0': c , 'degree': d,'accuracy': accuracy, 'precision': precision, 'recall': recall, 'f1': f1})\n",
    "\n",
    "\n",
    "# Load data\n",
    "X_train = np.load('X_train.npy')\n",
    "X_test = np.load('X_test.npy')\n",
    "y_train = np.load('y_train.npy')\n",
    "y_test = np.load('y_test.npy')\n",
    "\n",
    "# Hyperparamenters\n",
    "max_iter = 500000\n",
    "kernels = ['linear', 'poly', 'rbf', 'sigmoid']\n",
    "degrees = [1,2,3,4,5]\n",
    "random_state = 42\n",
    "decision_function_shape = ['ovo', 'ovr']\n",
    "gamma = ['scale', 'auto']\n",
    "coef0 = [-10, -9, -8, -7, -6, -5, -4, -3, -2, -1, 0 ,1 ,2 ,3 ,4 ,5 ,6 ,7 ,8 ,9 ,10]\n",
    "\n",
    "# Grid search\n",
    "results = []\n",
    "counter = 1\n",
    "\n",
    "for kernel in kernels:\n",
    "\n",
    "    # Each kernel has different parameters\n",
    "    if kernel == 'linear':\n",
    "        for decision_function in decision_function_shape:\n",
    "            model = SVC(kernel=kernel, random_state=random_state, decision_function_shape=decision_function, max_iter=max_iter)\n",
    "            train_and_results(results, model, X_train, X_test, y_train, y_test, kernel, decision_function)\n",
    "            print(\"I did \" + str(counter) + \" models\")\n",
    "            counter += 1\n",
    "\n",
    "    elif kernel == 'poly':\n",
    "        for decision_function in decision_function_shape:\n",
    "            for g in gamma:\n",
    "                for c in coef0:\n",
    "                    for d in degrees:\n",
    "                        model = SVC(kernel=kernel, random_state=random_state, decision_function_shape=decision_function, gamma=g, coef0=c, degree=d, max_iter=max_iter)\n",
    "                        train_and_results(results, model, X_train, X_test, y_train, y_test, kernel, decision_function, g, c, d)\n",
    "                        print(\"I did \" + str(counter) + \" models\")\n",
    "                        counter += 1\n",
    "\n",
    "    elif kernel == 'rbf':\n",
    "        for decision_function in decision_function_shape:\n",
    "            for g in gamma:\n",
    "                model = SVC(kernel=kernel, random_state=random_state, decision_function_shape=decision_function, gamma=g, max_iter=max_iter)\n",
    "                train_and_results(results, model, X_train, X_test, y_train, y_test, kernel, decision_function, g)\n",
    "                print(\"I did \" + str(counter) + \" models\")\n",
    "                counter += 1\n",
    "\n",
    "    elif kernel == 'sigmoid':\n",
    "        for decision_function in decision_function_shape:\n",
    "            for g in gamma:\n",
    "                for c in coef0:\n",
    "                    model = SVC(kernel=kernel, random_state=random_state, decision_function_shape=decision_function, gamma=g, coef0=c, max_iter=max_iter)\n",
    "                    train_and_results(results, model, X_train, X_test, y_train, y_test, kernel, decision_function, g, c)\n",
    "                    print(\"I did \" + str(counter) + \" models\")\n",
    "                    counter += 1\n",
    "\n",
    "print(\"OMG I'm done!\")"
   ]
  },
  {
   "cell_type": "code",
   "execution_count": 3,
   "metadata": {},
   "outputs": [
    {
     "name": "stderr",
     "output_type": "stream",
     "text": [
      "C:\\Users\\pc\\AppData\\Local\\Packages\\PythonSoftwareFoundation.Python.3.10_qbz5n2kfra8p0\\LocalCache\\local-packages\\Python310\\site-packages\\sklearn\\svm\\_base.py:297: ConvergenceWarning: Solver terminated early (max_iter=1000000).  Consider pre-processing your data with StandardScaler or MinMaxScaler.\n",
      "  warnings.warn(\n"
     ]
    }
   ],
   "source": [
    "from sklearn.model_selection import RandomizedSearchCV\n",
    "from scipy.stats import uniform, randint\n",
    "import pandas as pd\n",
    "from sklearn.metrics import make_scorer, accuracy_score, precision_score, recall_score, f1_score\n",
    "from sklearn.svm import SVC\n",
    "import numpy as np\n",
    "\n",
    "# Load data\n",
    "X_train = np.load('X_train.npy')\n",
    "X_test = np.load('X_test.npy')\n",
    "y_train = np.load('y_train.npy')\n",
    "y_test = np.load('y_test.npy')\n",
    "\n",
    "# Define the parameter space\n",
    "param_distributions = {\n",
    "    'kernel': ['linear', 'poly', 'rbf', 'sigmoid'],\n",
    "    'decision_function_shape': ['ovo', 'ovr'],\n",
    "    'gamma': ['scale', 'auto'],\n",
    "    'coef0': uniform(-10, 20),  # uniform distribution from -10 to 10\n",
    "    'degree': randint(1, 6),  # integer values from 1 to 5\n",
    "}\n",
    "\n",
    "scoring = {\n",
    "    'accuracy': make_scorer(accuracy_score),\n",
    "    'precision': make_scorer(precision_score, average='weighted'),\n",
    "    'recall': make_scorer(recall_score, average='weighted'),\n",
    "    'f1': make_scorer(f1_score, average='weighted')\n",
    "}\n",
    "\n",
    "# Create a RandomizedSearchCV object\n",
    "random_search = RandomizedSearchCV(SVC(random_state=42, max_iter=1000000), param_distributions, n_iter=100, scoring=scoring , refit='f1',cv=5, n_jobs=-1)\n",
    "\n",
    "# Fit it to the data\n",
    "random_search.fit(X_train, y_train)\n",
    "\n",
    "# Get the results\n",
    "results = random_search.cv_results_\n",
    "\n",
    "# Get the best parameters\n",
    "best_params = random_search.best_params_"
   ]
  },
  {
   "cell_type": "code",
   "execution_count": 4,
   "metadata": {},
   "outputs": [
    {
     "name": "stdout",
     "output_type": "stream",
     "text": [
      "    mean_fit_time  std_fit_time  mean_score_time  std_score_time param_coef0   \n",
      "0      298.317923     26.411100        55.276807       18.910078   -6.834152  \\\n",
      "1      297.001121     54.581030        50.278648       13.479229   -3.430945   \n",
      "2     1699.220151    174.972219       105.668506        1.670682   -4.987323   \n",
      "3      430.089342    118.197509         3.957639        0.104976    2.657199   \n",
      "4      259.669002     62.673497         4.511755        0.605532    8.174795   \n",
      "..            ...           ...              ...             ...         ...   \n",
      "95    1777.529313    168.123454        82.939063        5.278599    7.380702   \n",
      "96     244.043304     13.055199         8.337915        0.370379   -6.929052   \n",
      "97     171.330254      4.951803         5.668814        0.214979   -9.936969   \n",
      "98     496.171811     17.853404        42.857030        2.330162   -3.280973   \n",
      "99     117.032908     10.335444         5.049159        0.310041    5.622508   \n",
      "\n",
      "   param_decision_function_shape param_degree param_gamma param_kernel   \n",
      "0                            ovr            1       scale          rbf  \\\n",
      "1                            ovr            4        auto          rbf   \n",
      "2                            ovo            3       scale      sigmoid   \n",
      "3                            ovo            5        auto         poly   \n",
      "4                            ovo            3       scale         poly   \n",
      "..                           ...          ...         ...          ...   \n",
      "95                           ovo            5       scale      sigmoid   \n",
      "96                           ovo            1        auto         poly   \n",
      "97                           ovr            4       scale       linear   \n",
      "98                           ovo            1       scale      sigmoid   \n",
      "99                           ovo            2        auto         poly   \n",
      "\n",
      "                                               params  ...  std_test_recall   \n",
      "0   {'coef0': -6.8341515142810145, 'decision_funct...  ...         0.000593  \\\n",
      "1   {'coef0': -3.4309445934750187, 'decision_funct...  ...         0.000593   \n",
      "2   {'coef0': -4.987322967713574, 'decision_functi...  ...         0.003465   \n",
      "3   {'coef0': 2.657199049959644, 'decision_functio...  ...         0.000752   \n",
      "4   {'coef0': 8.174794844303214, 'decision_functio...  ...         0.000813   \n",
      "..                                                ...  ...              ...   \n",
      "95  {'coef0': 7.380701825542015, 'decision_functio...  ...         0.000557   \n",
      "96  {'coef0': -6.929051628483231, 'decision_functi...  ...         0.001142   \n",
      "97  {'coef0': -9.936968700300605, 'decision_functi...  ...         0.001211   \n",
      "98  {'coef0': -3.2809732729982404, 'decision_funct...  ...         0.011495   \n",
      "99  {'coef0': 5.622507667191915, 'decision_functio...  ...         0.000979   \n",
      "\n",
      "    rank_test_recall  split0_test_f1  split1_test_f1  split2_test_f1   \n",
      "0                 16        0.970305        0.970562        0.969902  \\\n",
      "1                 26        0.970305        0.970562        0.969860   \n",
      "2                 78        0.735440        0.732904        0.737526   \n",
      "3                  3        0.977452        0.977125        0.976716   \n",
      "4                  7        0.976298        0.975353        0.976097   \n",
      "..               ...             ...             ...             ...   \n",
      "95                95        0.170514        0.168965        0.170336   \n",
      "96                71        0.960214        0.960341        0.959194   \n",
      "97                44        0.965473        0.965888        0.966022   \n",
      "98                75        0.826555        0.831558        0.827687   \n",
      "99                14        0.973778        0.972337        0.972749   \n",
      "\n",
      "    split3_test_f1  split4_test_f1  mean_test_f1  std_test_f1  rank_test_f1  \n",
      "0         0.968824        0.969782      0.969875     0.000595            16  \n",
      "1         0.968824        0.969782      0.969867     0.000595            26  \n",
      "2         0.727049        0.735150      0.733614     0.003595            78  \n",
      "3         0.975391        0.977373      0.976811     0.000755             3  \n",
      "4         0.974073        0.976053      0.975575     0.000816             7  \n",
      "..             ...             ...           ...          ...           ...  \n",
      "95        0.169381        0.169226      0.169684     0.000622            92  \n",
      "96        0.957191        0.959807      0.959349     0.001151            69  \n",
      "97        0.962830        0.965973      0.965237     0.001219            44  \n",
      "98        0.800095        0.827157      0.822611     0.011393            75  \n",
      "99        0.970806        0.972997      0.972533     0.000983            14  \n",
      "\n",
      "[100 rows x 42 columns]\n"
     ]
    }
   ],
   "source": [
    "# Print results in a table\n",
    "results_df = pd.DataFrame(results)\n",
    "print(results_df)\n"
   ]
  },
  {
   "cell_type": "code",
   "execution_count": 7,
   "metadata": {},
   "outputs": [
    {
     "data": {
      "text/plain": [
       "<Axes: >"
      ]
     },
     "execution_count": 7,
     "metadata": {},
     "output_type": "execute_result"
    },
    {
     "data": {
      "image/png": "[encoded data removed]",
      "text/plain": [
       "<Figure size 640x480 with 2 Axes>"
      ]
     },
     "metadata": {},
     "output_type": "display_data"
    }
   ],
   "source": [
    "import seaborn as sns\n",
    "\n",
    "# Confusion Matrix\n",
    "confusion_matrix = metrics.confusion_matrix(y_test, y_pred)\n",
    "labels = ['GALAXY (1)', 'QSO (2)', 'STAR (3)']\n",
    "\n",
    "# Create a heatmap with the labels\n",
    "sns.heatmap(confusion_matrix, annot=True, fmt='d', cmap='Blues', xticklabels=labels, yticklabels=labels)"
   ]
  },
  {
   "cell_type": "code",
   "execution_count": 6,
   "metadata": {},
   "outputs": [],
   "source": [
    "np.save('results.npy', results_df)\n",
    "results_df.to_csv('results.csv', index=False)\n",
    "results_df.to_pickle('results.pkl')"
   ]
  },
  {
   "cell_type": "code",
   "execution_count": null,
   "metadata": {},
   "outputs": [],
   "source": []
  }
 ],
 "metadata": {
  "kernelspec": {
   "display_name": "Python 3",
   "language": "python",
   "name": "python3"
  },
  "language_info": {
   "codemirror_mode": {
    "name": "ipython",
    "version": 3
   },
   "file_extension": ".py",
   "mimetype": "text/x-python",
   "name": "python",
   "nbconvert_exporter": "python",
   "pygments_lexer": "ipython3",
   "version": "3.10.11"
  }
 },
 "nbformat": 4,
 "nbformat_minor": 2
}
