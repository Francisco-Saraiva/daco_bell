{
 "cells": [
  {
   "cell_type": "code",
   "execution_count": 1,
   "metadata": {},
   "outputs": [],
   "source": [
    "%%capture\n",
    "%run preprocessing.ipynb"
   ]
  },
  {
   "cell_type": "code",
   "execution_count": 9,
   "metadata": {},
   "outputs": [],
   "source": [
    "import numpy as np\n",
    "from sklearn import metrics\n",
    "import matplotlib.pyplot as plt\n",
    "import xgboost as xgb\n",
    "\n",
    "# Load data\n",
    "X_train = np.load('X_train.npy')\n",
    "X_test = np.load('X_test.npy')\n",
    "y_train = np.load('y_train.npy') - 1 # -1 to make classes start from 0\n",
    "y_test = np.load('y_test.npy') - 1   # same thing here"
   ]
  },
  {
   "cell_type": "code",
   "execution_count": 8,
   "metadata": {},
   "outputs": [
    {
     "name": "stdout",
     "output_type": "stream",
     "text": [
      "              precision    recall  f1-score   support\n",
      "\n",
      "           0    0.95462   0.97194   0.96320      9977\n",
      "           1    0.99330   0.99873   0.99601     10244\n",
      "           2    0.97871   0.95596   0.96720     10196\n",
      "\n",
      "    accuracy                        0.97561     30417\n",
      "   macro avg    0.97554   0.97554   0.97547     30417\n",
      "weighted avg    0.97572   0.97561   0.97559     30417\n",
      "\n"
     ]
    }
   ],
   "source": [
    "# Define the parameters for the XGBoost model\n",
    "\n",
    "# Create a DMatrix from the training data\n",
    "dtrain = xgb.DMatrix(X_train, label=y_train)\n",
    "\n",
    "param = {\n",
    "    'max_depth': 3,  # Maximum depth of the trees\n",
    "    'eta': 0.3,  # Learning rate\n",
    "    'objective': 'multi:softprob',  # Loss function\n",
    "    'num_class': 3  # Number of classes\n",
    "}\n",
    "\n",
    "# Train the model\n",
    "num_round = 20  # Number of training rounds\n",
    "model = xgb.train(param, dtrain, num_round)\n",
    "\n",
    "# Create a DMatrix from the test data\n",
    "dtest = xgb.DMatrix(X_test)\n",
    "\n",
    "# Make predictions on the test set\n",
    "y_pred = model.predict(dtest)\n",
    "\n",
    "# Get the class with the highest probability for each sample\n",
    "y_pred = np.argmax(y_pred, axis=1)\n",
    "\n",
    "# Print precision, recall, and F1-score\n",
    "print(metrics.classification_report(y_test, y_pred, digits=5))"
   ]
  },
  {
   "cell_type": "code",
   "execution_count": 11,
   "metadata": {},
   "outputs": [
    {
     "name": "stdout",
     "output_type": "stream",
     "text": [
      "{'learning_rate': 0.1, 'max_depth': 10, 'n_estimators': 500, 'objective': 'multi:softprob'}\n"
     ]
    }
   ],
   "source": [
    "from sklearn.model_selection import GridSearchCV\n",
    "import xgboost as xgb\n",
    "import pandas as pd\n",
    "\n",
    "# Define the parameter grid\n",
    "param_grid = {\n",
    "    'max_depth': [3, 4, 5, 6, 7, 8, 9, 10],  # Maximum depth of the trees\n",
    "    'learning_rate': [0.001, 0.002, 0.003,0.01, 0.02, 0.05, 0.1, 0.2, 0.3, 0.5],  # Learning rate\n",
    "    'n_estimators': [30, 40, 50, 75, 100, 200, 300, 400, 500],  # Number of trees (number of boosting rounds)\n",
    "    'objective': ['multi:softprob']   # Error evaluation for multiclass training (only this option available)\n",
    "}\n",
    "\n",
    "# In XGBoost, each tree is built to correct the mistakes made by the previous ensemble of trees.\n",
    "# It prevents overfitting by using a differentiable loss function\n",
    "# It has parameters to control the complexity of the trees (maximum depth, gamma, etc.) \n",
    "\n",
    "# I didn't try tuning gamma, but results are amazing nonetheless\n",
    "\n",
    "# Create a XGBClassifier\n",
    "model = xgb.XGBClassifier(use_label_encoder=False)\n",
    "\n",
    "# Create the grid search object\n",
    "grid_search = GridSearchCV(model, param_grid, cv=5, scoring='f1_weighted')\n",
    "\n",
    "# Fit the grid search object to the data\n",
    "grid_search.fit(X_train, y_train)\n",
    "\n",
    "# Print the best parameters\n",
    "print(grid_search.best_params_)\n",
    "\n",
    "\n",
    "# Save to a dataframe, and to a csv file\n",
    "cv_results = pd.DataFrame(grid_search.cv_results_)\n",
    "cv_results.to_csv('Results_XGBoost.csv')"
   ]
  }
 ],
 "metadata": {
  "kernelspec": {
   "display_name": "Python 3",
   "language": "python",
   "name": "python3"
  },
  "language_info": {
   "codemirror_mode": {
    "name": "ipython",
    "version": 3
   },
   "file_extension": ".py",
   "mimetype": "text/x-python",
   "name": "python",
   "nbconvert_exporter": "python",
   "pygments_lexer": "ipython3",
   "version": "3.10.11"
  }
 },
 "nbformat": 4,
 "nbformat_minor": 2
}
