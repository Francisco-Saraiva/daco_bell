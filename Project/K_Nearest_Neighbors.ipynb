{
 "cells": [
  {
   "cell_type": "markdown",
   "metadata": {},
   "source": [
    "1.4 K Nearest Neighbors"
   ]
  },
  {
   "cell_type": "markdown",
   "metadata": {},
   "source": [
    "Calculates the distance between the test point (test observation) and all the points in the train set. The most common distance metric to use is the euclidean distance:\n",
    "\n",
    "d(p, q) = sqrt((q1-p1)^2 + (q2-p2)^2 + ... + (qN-pN)^2)\n",
    "\n",
    "Then, it identifies the K closest train neighbors based on the calculated distance. Those points are called \"the nearest neighbors\". KNN then counts the nearest neighbors classifications for each class, and finally the predicted class for the new test point is decided based on vote majority."
   ]
  },
  {
   "cell_type": "code",
   "execution_count": 32,
   "metadata": {},
   "outputs": [],
   "source": [
    "%%capture\n",
    "%run preprocessing.ipynb"
   ]
  },
  {
   "cell_type": "code",
   "execution_count": 33,
   "metadata": {},
   "outputs": [
    {
     "name": "stdout",
     "output_type": "stream",
     "text": [
      "    Neighbors    Recall  Precision        F1\n",
      "0           1  0.967158   0.967084  0.967079\n",
      "1           2  0.963245   0.964042  0.963408\n",
      "2           3  0.968242   0.968224  0.968182\n",
      "3           4  0.966434   0.966743  0.966480\n",
      "4           5  0.967059   0.967147  0.967021\n",
      "5           6  0.966336   0.966587  0.966358\n",
      "6           7  0.966270   0.966379  0.966230\n",
      "7           8  0.965415   0.965660  0.965423\n",
      "8           9  0.965119   0.965298  0.965095\n",
      "9          10  0.964100   0.964375  0.964112\n",
      "10         11  0.963969   0.964180  0.963948\n",
      "11         12  0.963706   0.963985  0.963713\n",
      "12         13  0.963213   0.963433  0.963192\n",
      "13         14  0.962917   0.963203  0.962922\n",
      "14         15  0.962358   0.962597  0.962340\n",
      "15         16  0.962424   0.962722  0.962430\n",
      "16         17  0.961996   0.962254  0.961977\n",
      "17         18  0.961832   0.962126  0.961830\n",
      "18         19  0.961766   0.962036  0.961749\n",
      "19         20  0.961503   0.961824  0.961509\n"
     ]
    }
   ],
   "source": [
    "import numpy as np\n",
    "import pandas as pd\n",
    "from sklearn.neighbors import KNeighborsClassifier\n",
    "from sklearn.metrics import recall_score, precision_score, f1_score\n",
    "from sklearn.model_selection import train_test_split\n",
    "\n",
    "# Load data\n",
    "X_train = np.load('X_train.npy')\n",
    "X_test = np.load('X_test.npy')\n",
    "y_train = np.load('y_train.npy')\n",
    "y_test = np.load('y_test.npy')\n",
    "\n",
    "# Create a list to store results for each trained model\n",
    "knn_data = []\n",
    "\n",
    "# Iterate over different values of n_neighbors (here we are considering 20 values max)\n",
    "# Using the default distance metric (Minkowski) and p=2 (Euclidean distance)    \n",
    "for i in range(1, 21):\n",
    "    # Create and train the K Neighbors Classifier model\n",
    "    model = KNeighborsClassifier(n_neighbors=i, metric ='manhattan')\n",
    "    model.fit(X_train, y_train)\n",
    "    \n",
    "    # Make predictions on the test set\n",
    "    y_pred = model.predict(X_test)\n",
    "    \n",
    "    # Calculate evaluation metrics for the model\n",
    "    recall = recall_score(y_test, y_pred, average='weighted')\n",
    "    precision = precision_score(y_test, y_pred, average='weighted')  \n",
    "    f1 = f1_score(y_test, y_pred, average='weighted') \n",
    "    \n",
    "    knn_data.append({'Neighbors': i, 'Recall': recall, 'Precision': precision, 'F1': f1})\n",
    "\n",
    "# Convert the list of results to a DataFrame\n",
    "knn_df = pd.DataFrame(knn_data)\n",
    "\n",
    "# Display the DataFrame\n",
    "print(knn_df)\n"
   ]
  },
  {
   "cell_type": "code",
   "execution_count": 34,
   "metadata": {},
   "outputs": [
    {
     "data": {
      "text/html": [
       "<div>\n",
       "<style scoped>\n",
       "    .dataframe tbody tr th:only-of-type {\n",
       "        vertical-align: middle;\n",
       "    }\n",
       "\n",
       "    .dataframe tbody tr th {\n",
       "        vertical-align: top;\n",
       "    }\n",
       "\n",
       "    .dataframe thead th {\n",
       "        text-align: right;\n",
       "    }\n",
       "</style>\n",
       "<table border=\"1\" class=\"dataframe\">\n",
       "  <thead>\n",
       "    <tr style=\"text-align: right;\">\n",
       "      <th></th>\n",
       "      <th>Neighbors</th>\n",
       "      <th>Recall</th>\n",
       "      <th>Precision</th>\n",
       "      <th>F1</th>\n",
       "    </tr>\n",
       "  </thead>\n",
       "  <tbody>\n",
       "    <tr>\n",
       "      <th>2</th>\n",
       "      <td>3</td>\n",
       "      <td>0.968242</td>\n",
       "      <td>0.968224</td>\n",
       "      <td>0.968182</td>\n",
       "    </tr>\n",
       "    <tr>\n",
       "      <th>0</th>\n",
       "      <td>1</td>\n",
       "      <td>0.967158</td>\n",
       "      <td>0.967084</td>\n",
       "      <td>0.967079</td>\n",
       "    </tr>\n",
       "    <tr>\n",
       "      <th>4</th>\n",
       "      <td>5</td>\n",
       "      <td>0.967059</td>\n",
       "      <td>0.967147</td>\n",
       "      <td>0.967021</td>\n",
       "    </tr>\n",
       "    <tr>\n",
       "      <th>3</th>\n",
       "      <td>4</td>\n",
       "      <td>0.966434</td>\n",
       "      <td>0.966743</td>\n",
       "      <td>0.966480</td>\n",
       "    </tr>\n",
       "    <tr>\n",
       "      <th>5</th>\n",
       "      <td>6</td>\n",
       "      <td>0.966336</td>\n",
       "      <td>0.966587</td>\n",
       "      <td>0.966358</td>\n",
       "    </tr>\n",
       "  </tbody>\n",
       "</table>\n",
       "</div>"
      ],
      "text/plain": [
       "   Neighbors    Recall  Precision        F1\n",
       "2          3  0.968242   0.968224  0.968182\n",
       "0          1  0.967158   0.967084  0.967079\n",
       "4          5  0.967059   0.967147  0.967021\n",
       "3          4  0.966434   0.966743  0.966480\n",
       "5          6  0.966336   0.966587  0.966358"
      ]
     },
     "execution_count": 34,
     "metadata": {},
     "output_type": "execute_result"
    }
   ],
   "source": [
    "# See the best model is for n_neighbors = 3 \n",
    "\n",
    "knn_df = knn_df.sort_values(by='F1', ascending = False)\n",
    "knn_df.head()"
   ]
  },
  {
   "cell_type": "code",
   "execution_count": 35,
   "metadata": {},
   "outputs": [
    {
     "name": "stdout",
     "output_type": "stream",
     "text": [
      "0.968242488000526\n"
     ]
    }
   ],
   "source": [
    "# Using n_neighbors = 3 \n",
    "\n",
    "from sklearn.neighbors import KNeighborsClassifier\n",
    "model = KNeighborsClassifier(n_neighbors = 3, metric='manhattan') \n",
    "model.fit(X_train, y_train)\n",
    "y_pred2 = model.predict(X_test)\n",
    "\n",
    "from sklearn.metrics import recall_score\n",
    "knn_score = recall_score(y_test, y_pred, average='weighted')\n",
    "print(knn_score)"
   ]
  },
  {
   "cell_type": "code",
   "execution_count": 36,
   "metadata": {},
   "outputs": [
    {
     "data": {
      "text/plain": [
       "<Axes: >"
      ]
     },
     "execution_count": 36,
     "metadata": {},
     "output_type": "execute_result"
    },
    {
     "data": {
      "image/png": "[encoded data removed]",
      "text/plain": [
       "<Figure size 640x480 with 2 Axes>"
      ]
     },
     "metadata": {},
     "output_type": "display_data"
    }
   ],
   "source": [
    "# Visualize the confusion matrix\n",
    "from sklearn.metrics import confusion_matrix\n",
    "import seaborn as sns\n",
    "\n",
    "# Create a confusion matrix\n",
    "matrix = confusion_matrix(y_test, y_pred)\n",
    "\n",
    "# Create a list of labels\n",
    "labels = ['GALAXY (1)', 'QSO (2)', 'STAR (3)']\n",
    "\n",
    "# Create a heatmap with the labels\n",
    "sns.heatmap(matrix, annot=True, fmt='d', cmap='Blues', xticklabels=labels, yticklabels=labels)\n"
   ]
  }
 ],
 "metadata": {
  "kernelspec": {
   "display_name": "Python 3",
   "language": "python",
   "name": "python3"
  },
  "language_info": {
   "codemirror_mode": {
    "name": "ipython",
    "version": 3
   },
   "file_extension": ".py",
   "mimetype": "text/x-python",
   "name": "python",
   "nbconvert_exporter": "python",
   "pygments_lexer": "ipython3",
   "version": "3.11.7"
  }
 },
 "nbformat": 4,
 "nbformat_minor": 2
}
